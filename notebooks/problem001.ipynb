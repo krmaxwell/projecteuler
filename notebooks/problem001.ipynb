{
 "metadata": {
  "name": "",
  "signature": "sha256:640d35640d4820577c1e890559142234a2d7858e7c6d1b02ae3aeb7e3c1beb4e"
 },
 "nbformat": 3,
 "nbformat_minor": 0,
 "worksheets": [
  {
   "cells": [
    {
     "cell_type": "markdown",
     "metadata": {},
     "source": [
      "# Multiples of 3 and 5\n",
      "## [Problem 1](http://projecteuler.net/problem=1)\n",
      "\n",
      "If we list all the natural numbers below 10 that are multiples of 3 or 5, we get 3, 5, 6 and 9. The sum of these multiples is 23.\n",
      "\n",
      "Find the sum of all the multiples of 3 or 5 below 1000."
     ]
    },
    {
     "cell_type": "markdown",
     "metadata": {},
     "source": [
      "---\n",
      "My [original solution](https://github.com/technoskald/projecteuler/blob/master/prob1.py) for this problem, like almost all the others, uses old-school imperative programming that we can do in almost any language."
     ]
    },
    {
     "cell_type": "code",
     "collapsed": false,
     "input": [
      "import sys\n",
      "\n",
      "n = 0\n",
      "for i in range(1000):\n",
      "    if ((i % 3) == 0) or ((i % 5) == 0):\n",
      "        n += i\n",
      "\n",
      "print n"
     ],
     "language": "python",
     "metadata": {},
     "outputs": [
      {
       "output_type": "stream",
       "stream": "stdout",
       "text": [
        "233168\n"
       ]
      }
     ],
     "prompt_number": 1
    },
    {
     "cell_type": "markdown",
     "metadata": {},
     "source": [
      "But idiomatic Python looks cleaner."
     ]
    },
    {
     "cell_type": "code",
     "collapsed": false,
     "input": [
      "print sum(i for i in range(1,1000) if i%3==0 or i%5==0)"
     ],
     "language": "python",
     "metadata": {},
     "outputs": [
      {
       "output_type": "stream",
       "stream": "stdout",
       "text": [
        "233168\n"
       ]
      }
     ],
     "prompt_number": 2
    },
    {
     "cell_type": "markdown",
     "metadata": {},
     "source": [
      "Both give the correct answer, but we used an [iterable](http://docs.python.org/glossary.html#term-iterable) (sequence) in the second case to do the same thing as the `for` loop in the first example. We also don\u2019t need to maintain our own summation variable like `n`. Because of the small range of numbers we need to consider, I couldn\u2019t find any significant difference in the average run times of these two programs. And I\u2019ve wanted to explore functional programming, too."
     ]
    },
    {
     "cell_type": "code",
     "collapsed": false,
     "input": [
      "print sum(list(set(range(0,1000,3) + range(0,1000,5))))"
     ],
     "language": "python",
     "metadata": {},
     "outputs": [
      {
       "output_type": "stream",
       "stream": "stdout",
       "text": [
        "233168\n"
       ]
      }
     ],
     "prompt_number": 3
    },
    {
     "cell_type": "markdown",
     "metadata": {},
     "source": [
      "This avoids maintaining any internal state like we did with the `i` variable above. For purposes of functional programming, I think that this would have been the optimal solution."
     ]
    }
   ],
   "metadata": {}
  }
 ]
}