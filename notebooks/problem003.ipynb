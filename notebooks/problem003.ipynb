{
 "metadata": {
  "name": "",
  "signature": "sha256:89500e2def55072491589db7b397fe30b56dbc4681cde9bdb73a412ffdd923f7"
 },
 "nbformat": 3,
 "nbformat_minor": 0,
 "worksheets": [
  {
   "cells": [
    {
     "cell_type": "markdown",
     "metadata": {},
     "source": [
      "# [Problem 3](http://projecteuler.net/problem=3): Largest prime factor\n",
      "\n",
      "The prime factors of 13195 are 5, 7, 13 and 29. \n",
      "\n",
      "What is the largest prime factor of the number 600851475143?"
     ]
    },
    {
     "cell_type": "markdown",
     "metadata": {},
     "source": [
      "---\n",
      "[Factorization](http://en.wikipedia.org/wiki/Integer_factorization) is, computationally speaking, a Hard Problem. When mathematicians call a problem \u201chard\u201d, we don\u2019t mean \u201cdifficult for the human mind to comprehend\u201d, because that is subjective and subject to change. Remember, the differential calculus literally changed history when Newton and Leibniz first wrote about it, and now we teach it to kids in high school. (The \u201chardness\u201d of a problem in mathematics is called its \u201ccomplexity\u201d. Computational complexity theory is a well-established and important field all on its own.) No, what we mean in this case is that it can\u2019t be solved in polynomial time \u2013 meaning that, for very large numbers, this takes infeasible amounts of time with everything we know about mathematics and computation right now. In fact, it\u2019s so hard that it forms the mathematical basis for public-key cryptography.\n",
      "\n",
      "That doesn\u2019t mean we can\u2019t do it. It just means that for really, really big numbers, it takes a long time. So this problem isn\u2019t actually a large number, on the order of 10<sup>12</sup>. And lots of work has been done with this problem: in fact, it comes down to something called the \u201cFundamental Theorem of Arithmetic\u201d, which is that every positive integer has a unique prime factorization.\n",
      "\n",
      "To facilitate some problems later in Project Euler, I wrote a general-purpose factorization routine that does a little more than we need here."
     ]
    },
    {
     "cell_type": "code",
     "collapsed": false,
     "input": [
      "def prime_factors(n):\n",
      "    \"\"\" Return the prime factors of the given number. \"\"\"\n",
      "    factors = {}\n",
      "    lastresult = n\n",
      "\n",
      "    # 1 is a special case\n",
      "    if n == 1:\n",
      "        return {1: 1}\n",
      "\n",
      "    while lastresult != 1:\n",
      "        c = 2\n",
      "        while lastresult % c != 0:\n",
      "            c += 1\n",
      "        if c in factors:\n",
      "            factors[c] += 1\n",
      "        else:\n",
      "            factors[c] = 1\n",
      "        lastresult /= c\n",
      "\n",
      "    return factors"
     ],
     "language": "python",
     "metadata": {},
     "outputs": [],
     "prompt_number": 1
    },
    {
     "cell_type": "markdown",
     "metadata": {},
     "source": [
      "This will return a Python dict, where each key is a prime factor of the original number and the value of that key is the required power to which we need to raise that factor (e.g. `prime_factors(18)` returns `{2:1, 3:2}` for 2<sup>1</sup> * 3<sup>2</sup>).\n",
      "\n",
      "Then we write a short script to call it with the appropriate number and print only the largest factor."
     ]
    },
    {
     "cell_type": "code",
     "collapsed": false,
     "input": [
      "n = 600851475143\n",
      "factors = prime_factors(n)\n",
      "print \"Largest prime factor of %d is %d\" % (n, max(factors.keys()))"
     ],
     "language": "python",
     "metadata": {},
     "outputs": [
      {
       "output_type": "stream",
       "stream": "stdout",
       "text": [
        "Largest prime factor of 600851475143 is 6857\n"
       ]
      }
     ],
     "prompt_number": 2
    }
   ],
   "metadata": {}
  }
 ]
}