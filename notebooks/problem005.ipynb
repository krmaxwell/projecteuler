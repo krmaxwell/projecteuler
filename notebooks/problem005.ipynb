{
 "metadata": {
  "name": "",
  "signature": "sha256:105bd74bc9659696b22afb9897629614976aa5adabda9d96f0dc5e17d1da72d7"
 },
 "nbformat": 3,
 "nbformat_minor": 0,
 "worksheets": [
  {
   "cells": [
    {
     "cell_type": "markdown",
     "metadata": {},
     "source": [
      "# [Problem 5](http://projecteuler.net/problem=5): Smallest multiple\n",
      "\n",
      "2520 is the smallest number that can be divided by each of the numbers from 1 to 10 without any remainder. \n",
      "\n",
      "What is the smallest positive number that is evenly divisible by all of the numbers from 1 to 20?"
     ]
    },
    {
     "cell_type": "markdown",
     "metadata": {},
     "source": [
      "---\n",
      "Around fourth or fifth grade (in the US, usually around 10 or 11 years old), we learned the concept of a **[least common multiple](http://en.wikipedia.org/wiki/Least_common_multiplehttp://en.wikipedia.org/wiki/Least_common_multiple)**. While the problem statement doesn\u2019t use that specific term, it actually contains a pretty decent definition of it: \u201cthe smallest number that can be divided by each of the numbers [in a set] without any remainder\u201d. `LCM(1,2,3,4,5,6,7,8,9,10) == 2520` provides a helpful assertion to validate our code before running it on the real problem.\n",
      "\n",
      "The easiest way for me to understand this problem is to apply the **Fundamental Theorem of Arithmetic** again and get the prime factorization of each number between 1 and the max in the set, exclusive. In other words, we calculate factors of 2 thru 9 for the example in the problem. Fortunately, we wrote code to do this before in Problem 3 (see `prime_factors()` there)."
     ]
    },
    {
     "cell_type": "code",
     "collapsed": false,
     "input": [
      "def prime_factors(n):\n",
      "    \"\"\" Return the prime factors of the given number. \"\"\"\n",
      "    factors = {}\n",
      "    lastresult = n\n",
      "\n",
      "    # 1 is a special case\n",
      "    if n == 1:\n",
      "        return {1: 1}\n",
      "\n",
      "    while lastresult != 1:\n",
      "        c = 2\n",
      "        while lastresult % c != 0:\n",
      "            c += 1\n",
      "        if c in factors:\n",
      "            factors[c] += 1\n",
      "        else:\n",
      "            factors[c] = 1\n",
      "        lastresult /= c\n",
      "\n",
      "    return factors"
     ],
     "language": "python",
     "metadata": {},
     "outputs": [],
     "prompt_number": 2
    },
    {
     "cell_type": "markdown",
     "metadata": {},
     "source": [
      "Then for our core logic, we define `n` as our maximum number and proceed as follows:"
     ]
    },
    {
     "cell_type": "code",
     "collapsed": false,
     "input": [
      "n = 20  # change to suit"
     ],
     "language": "python",
     "metadata": {},
     "outputs": [],
     "prompt_number": 6
    },
    {
     "cell_type": "code",
     "collapsed": false,
     "input": [
      "lcm = 1\n",
      "factors = {}\n",
      "\n",
      "for i in range(n-1, 1, -1):\n",
      "    candidate_factors = prime_factors(i)\n",
      "    for j in candidate_factors:\n",
      "        if (not j in factors) or (candidate_factors[j] > factors[j]):\n",
      "            factors[j] = candidate_factors[j]\n",
      "\n",
      "for f in factors:\n",
      "    lcm = lcm * f ** factors[f]\n",
      "print \"LCM is %d\" % lcm"
     ],
     "language": "python",
     "metadata": {},
     "outputs": [
      {
       "output_type": "stream",
       "stream": "stdout",
       "text": [
        "LCM is 232792560\n"
       ]
      }
     ],
     "prompt_number": 7
    }
   ],
   "metadata": {}
  }
 ]
}