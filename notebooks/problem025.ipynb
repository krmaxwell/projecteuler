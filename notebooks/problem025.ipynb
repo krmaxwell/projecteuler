{
 "metadata": {
  "name": "",
  "signature": "sha256:fb0fe2000ff4426a996357c68c8737a6083bee9077fd6d5d5d5cfffe18ada5bb"
 },
 "nbformat": 3,
 "nbformat_minor": 0,
 "worksheets": [
  {
   "cells": [
    {
     "cell_type": "markdown",
     "metadata": {},
     "source": [
      "# [Problem 25](http://projecteuler.net/problem=25): 1000-digit Fibonacci number\n",
      "\n",
      "The Fibonacci sequence is defined by the recurrence relation:\n",
      "\n",
      "- F<sub>n</sub> = F<sub>n\u22121</sub> + F<sub>n\u22122</sub>, where F<sub>1</sub> = 1 and F<sub>2</sub> = 1.\n",
      "\n",
      "Hence the first 12 terms will be:\n",
      "\n",
      "- F<sub>1</sub> = 1\n",
      "- F<sub>2</sub> = 1\n",
      "- F<sub>3</sub> = 2\n",
      "- F<sub>4</sub> = 3\n",
      "- F<sub>5</sub> = 5\n",
      "- F<sub>6</sub> = 8\n",
      "- F<sub>7</sub> = 13\n",
      "- F<sub>8</sub> = 21\n",
      "- F<sub>9</sub> = 34\n",
      "- F<sub>10</sub> = 55\n",
      "- F<sub>11</sub> = 89\n",
      "- F<sub>12</sub> = 144\n",
      "\n",
      "The 12th term, F<sub>12</sub>, is the first term to contain three digits.\n",
      "\n",
      "What is the first term in the Fibonacci sequence to contain 1000 digits?"
     ]
    },
    {
     "cell_type": "code",
     "collapsed": false,
     "input": [
      "f1, f2 = 1,1\n",
      "term = 2\n",
      "while f2 < 10 ** 999:\n",
      "    f1, f2 = f2, f1+f2\n",
      "    term += 1"
     ],
     "language": "python",
     "metadata": {},
     "outputs": [],
     "prompt_number": 12
    },
    {
     "cell_type": "code",
     "collapsed": false,
     "input": [
      "print term"
     ],
     "language": "python",
     "metadata": {},
     "outputs": [
      {
       "output_type": "stream",
       "stream": "stdout",
       "text": [
        "4782\n"
       ]
      }
     ],
     "prompt_number": 13
    },
    {
     "cell_type": "code",
     "collapsed": false,
     "input": [
      "import math\n",
      "print math.floor(math.log10(f2)+1)"
     ],
     "language": "python",
     "metadata": {},
     "outputs": [
      {
       "output_type": "stream",
       "stream": "stdout",
       "text": [
        "1000.0\n"
       ]
      }
     ],
     "prompt_number": 15
    },
    {
     "cell_type": "code",
     "collapsed": false,
     "input": [],
     "language": "python",
     "metadata": {},
     "outputs": []
    }
   ],
   "metadata": {}
  }
 ]
}