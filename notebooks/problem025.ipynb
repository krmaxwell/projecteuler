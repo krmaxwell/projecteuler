{
 "metadata": {
  "name": "",
  "signature": "sha256:96ce7ef418020861acf1a6a59c1072dfcfddb9def87537d3733b22de21e337b2"
 },
 "nbformat": 3,
 "nbformat_minor": 0,
 "worksheets": [
  {
   "cells": [
    {
     "cell_type": "markdown",
     "metadata": {},
     "source": [
      "# [Problem 25](http://projecteuler.net/problem=25): 1000-digit Fibonacci number\n",
      "\n",
      "The Fibonacci sequence is defined by the recurrence relation:\n",
      "\n",
      "- F<sub>n</sub> = F<sub>n\u22121</sub> + F<sub>n\u22122</sub>, where F<sub>1</sub> = 1 and F<sub>2</sub> = 1.\n",
      "\n",
      "Hence the first 12 terms will be:\n",
      "\n",
      "- F<sub>1</sub> = 1\n",
      "- F<sub>2</sub> = 1\n",
      "- F<sub>3</sub> = 2\n",
      "- F<sub>4</sub> = 3\n",
      "- F<sub>5</sub> = 5\n",
      "- F<sub>6</sub> = 8\n",
      "- F<sub>7</sub> = 13\n",
      "- F<sub>8</sub> = 21\n",
      "- F<sub>9</sub> = 34\n",
      "- F<sub>10</sub> = 55\n",
      "- F<sub>11</sub> = 89\n",
      "- F<sub>12</sub> = 144\n",
      "\n",
      "The 12th term, F<sub>12</sub>, is the first term to contain three digits.\n",
      "\n",
      "What is the first term in the Fibonacci sequence to contain 1000 digits?"
     ]
    },
    {
     "cell_type": "code",
     "collapsed": false,
     "input": [
      "f1, f2 = 1,1\n",
      "term = 2\n",
      "while f2 < pow(10, 1000):\n",
      "    f1, f2 = f2, f1+f2\n",
      "    term += 1"
     ],
     "language": "python",
     "metadata": {},
     "outputs": [],
     "prompt_number": 6
    },
    {
     "cell_type": "code",
     "collapsed": false,
     "input": [
      "print term"
     ],
     "language": "python",
     "metadata": {},
     "outputs": [
      {
       "output_type": "stream",
       "stream": "stdout",
       "text": [
        "4787\n"
       ]
      }
     ],
     "prompt_number": 7
    },
    {
     "cell_type": "code",
     "collapsed": false,
     "input": [
      "print f2"
     ],
     "language": "python",
     "metadata": {},
     "outputs": [
      {
       "output_type": "stream",
       "stream": "stdout",
       "text": [
        "11867216745258291596767088485966669273798582100095758927648586619975930687764095025968215177396570693265703962438125699711941059562545194266075961811883693134762216371218311196004424123489176045121333888565534924242378605373120526670329845322631737678903926970677861161240351447136066048164999599442542656514905088616976279305745609791746515632977790194938965236778055329967326038544356209745856855159058933476416258769264398373862584107011986781891656652294354303384242672408623790331963965457196174228574314820977014549061641307451101774166736940218594168337251710513138183086237827524393177246011800953414994670315197696419455768988692973700193372678236023166645886460311356376355559165284374295661676047742503016358708348137445254264644759334748027290043966390891843744407845769620260120918661264249498568399416752809338209739872047617689422485537053988895817801983866648336679027270843804302586168051835624516823216354234081479331553304809262608491851078404280454207286577699580222132259241827433\n"
       ]
      }
     ],
     "prompt_number": 8
    },
    {
     "cell_type": "code",
     "collapsed": false,
     "input": [
      "import math\n",
      "print math.floor(math.log10(f1)+1)"
     ],
     "language": "python",
     "metadata": {},
     "outputs": [
      {
       "output_type": "stream",
       "stream": "stdout",
       "text": [
        "1000.0\n"
       ]
      }
     ],
     "prompt_number": 10
    },
    {
     "cell_type": "code",
     "collapsed": false,
     "input": [],
     "language": "python",
     "metadata": {},
     "outputs": []
    }
   ],
   "metadata": {}
  }
 ]
}