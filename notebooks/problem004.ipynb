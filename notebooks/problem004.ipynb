{
 "metadata": {
  "name": "",
  "signature": "sha256:2623b9cb48dc8f953a2bfd2918cad2296907dda6b92fa9f5935454a8ca5e88f0"
 },
 "nbformat": 3,
 "nbformat_minor": 0,
 "worksheets": [
  {
   "cells": [
    {
     "cell_type": "markdown",
     "metadata": {},
     "source": [
      "# [Problem 4](http://projecteuler.net/problem=4): Largest palindrome product\n",
      "\n",
      "A palindromic number reads the same both ways. The largest palindrome made from the product of two 2-digit numbers is 9009 = 91 \u00d7 99.\n",
      "\n",
      "Find the largest palindrome made from the product of two 3-digit numbers."
     ]
    },
    {
     "cell_type": "markdown",
     "metadata": {},
     "source": [
      "---\n",
      "Palindromic numbers make much more sense to humans than computers because we can look at a number as a series of symbols rather than a scalar value. And of course they only make sense in the context of a given base; clearly we must assume base 10 here, validated by the example given.\n",
      "\n",
      "First we write a little function to determine whether a given integer value is a palindrome. Python\u2019s [slice notation](http://stackoverflow.com/a/509295/1569808) makes this easy:"
     ]
    },
    {
     "cell_type": "code",
     "collapsed": false,
     "input": [
      "def is_palindrome(n):\n",
      "    \"\"\" Return a value indicating whether a number is a palindrome.\"\"\"\n",
      "    return (str(n) == str(n)[::-1])"
     ],
     "language": "python",
     "metadata": {},
     "outputs": [],
     "prompt_number": 1
    },
    {
     "cell_type": "markdown",
     "metadata": {},
     "source": [
      "Basically, appending `[::-1]` gives us the reverse of a list.\n",
      "\n",
      "With that in mind, we just need a couple of for-loops to iterate over all pairs of three-digit numbers:"
     ]
    },
    {
     "cell_type": "code",
     "collapsed": false,
     "input": [
      "result = 0\n",
      "for i in range(100, 1000):\n",
      "    for j in range(100, 1000):\n",
      "        n = i*j\n",
      "        if (is_palindrome(n)) and n > result:\n",
      "            lasti = i\n",
      "            lastj = j\n",
      "            result = n\n",
      "print \"%d is the product of %d and %d\" % (result, lasti, lastj)"
     ],
     "language": "python",
     "metadata": {},
     "outputs": [
      {
       "output_type": "stream",
       "stream": "stdout",
       "text": [
        "906609 is the product of 913 and 993\n"
       ]
      }
     ],
     "prompt_number": 2
    }
   ],
   "metadata": {}
  }
 ]
}