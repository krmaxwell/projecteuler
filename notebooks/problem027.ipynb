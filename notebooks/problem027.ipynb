{
 "metadata": {
  "name": ""
 },
 "nbformat": 3,
 "nbformat_minor": 0,
 "worksheets": [
  {
   "cells": [
    {
     "cell_type": "markdown",
     "metadata": {},
     "source": [
      "# [Problem 27](http://projecteuler.net/problem=27): Quadratic primes\n",
      "\n",
      "Euler discovered the remarkable quadratic formula:\n",
      "\n",
      "n\u00b2 + n + 41\n",
      "\n",
      "It turns out that the formula will produce 40 primes for the consecutive values n = 0 to 39. However, when n = 40, 402 + 40 + 41 = 40(40 + 1) + 41 is divisible by 41, and certainly when n = 41, 41\u00b2 + 41 + 41 is clearly divisible by 41.\n",
      "\n",
      "The incredible formula  n\u00b2 \u2212 79n + 1601 was discovered, which produces 80 primes for the consecutive values n = 0 to 79. The product of the coefficients, \u221279 and 1601, is \u2212126479.\n",
      "\n",
      "Considering quadratics of the form:\n",
      "\n",
      "n\u00b2 + an + b, where |a| < 1000 and |b| < 1000\n",
      "\n",
      "where |n| is the modulus/absolute value of n\n",
      "e.g. |11| = 11 and |\u22124| = 4\n",
      "Find the product of the coefficients, a and b, for the quadratic expression that produces the maximum number of primes for consecutive values of n, starting with n = 0."
     ]
    },
    {
     "cell_type": "code",
     "collapsed": false,
     "input": [
      "from math import sqrt, trunc\n",
      "\n",
      "def is_prime(n):\n",
      "    if n <= 0:\n",
      "        return False\n",
      "    \n",
      "    r = trunc(sqrt(n))   # max number we have to check\n",
      "    i = 2                # first number to check\n",
      "    p = True             # eventual return value\n",
      "\n",
      "    while (i <= r) and p:\n",
      "        if (n % i) == 0:\n",
      "            p = False\n",
      "        else:\n",
      "            i += 1       # skip even numbers\n",
      "    return p"
     ],
     "language": "python",
     "metadata": {},
     "outputs": [],
     "prompt_number": 13
    },
    {
     "cell_type": "code",
     "collapsed": false,
     "input": [
      "for n in xrange(41):\n",
      "    print \"n := %d => n**n+n+41 = %d => prime? %r\" % (n, n*n+n+41, is_prime(n*n+n+41))"
     ],
     "language": "python",
     "metadata": {},
     "outputs": [
      {
       "output_type": "stream",
       "stream": "stdout",
       "text": [
        "n := 0 => n**n+n+41 = 41 => prime? True\n",
        "n := 1 => n**n+n+41 = 43 => prime? True\n",
        "n := 2 => n**n+n+41 = 47 => prime? True\n",
        "n := 3 => n**n+n+41 = 53 => prime? True\n",
        "n := 4 => n**n+n+41 = 61 => prime? True\n",
        "n := 5 => n**n+n+41 = 71 => prime? True\n",
        "n := 6 => n**n+n+41 = 83 => prime? True\n",
        "n := 7 => n**n+n+41 = 97 => prime? True\n",
        "n := 8 => n**n+n+41 = 113 => prime? True\n",
        "n := 9 => n**n+n+41 = 131 => prime? True\n",
        "n := 10 => n**n+n+41 = 151 => prime? True\n",
        "n := 11 => n**n+n+41 = 173 => prime? True\n",
        "n := 12 => n**n+n+41 = 197 => prime? True\n",
        "n := 13 => n**n+n+41 = 223 => prime? True\n",
        "n := 14 => n**n+n+41 = 251 => prime? True\n",
        "n := 15 => n**n+n+41 = 281 => prime? True\n",
        "n := 16 => n**n+n+41 = 313 => prime? True\n",
        "n := 17 => n**n+n+41 = 347 => prime? True\n",
        "n := 18 => n**n+n+41 = 383 => prime? True\n",
        "n := 19 => n**n+n+41 = 421 => prime? True\n",
        "n := 20 => n**n+n+41 = 461 => prime? True\n",
        "n := 21 => n**n+n+41 = 503 => prime? True\n",
        "n := 22 => n**n+n+41 = 547 => prime? True\n",
        "n := 23 => n**n+n+41 = 593 => prime? True\n",
        "n := 24 => n**n+n+41 = 641 => prime? True\n",
        "n := 25 => n**n+n+41 = 691 => prime? True\n",
        "n := 26 => n**n+n+41 = 743 => prime? True\n",
        "n := 27 => n**n+n+41 = 797 => prime? True\n",
        "n := 28 => n**n+n+41 = 853 => prime? True\n",
        "n := 29 => n**n+n+41 = 911 => prime? True\n",
        "n := 30 => n**n+n+41 = 971 => prime? True\n",
        "n := 31 => n**n+n+41 = 1033 => prime? True\n",
        "n := 32 => n**n+n+41 = 1097 => prime? True\n",
        "n := 33 => n**n+n+41 = 1163 => prime? True\n",
        "n := 34 => n**n+n+41 = 1231 => prime? True\n",
        "n := 35 => n**n+n+41 = 1301 => prime? True\n",
        "n := 36 => n**n+n+41 = 1373 => prime? True\n",
        "n := 37 => n**n+n+41 = 1447 => prime? True\n",
        "n := 38 => n**n+n+41 = 1523 => prime? True\n",
        "n := 39 => n**n+n+41 = 1601 => prime? True\n",
        "n := 40 => n**n+n+41 = 1681 => prime? False\n"
       ]
      }
     ],
     "prompt_number": 14
    },
    {
     "cell_type": "code",
     "collapsed": false,
     "input": [
      "for n in xrange(81):\n",
      "    result = n*n - 79*n + 1601\n",
      "    print \"n := %d => n*n-79n+1601 = %d => prime? %r\" % (n, result, is_prime(result))\n",
      "\n",
      "print 79*1601"
     ],
     "language": "python",
     "metadata": {},
     "outputs": [
      {
       "output_type": "stream",
       "stream": "stdout",
       "text": [
        "n := 0 => n*n-79n+1601 = 1601 => prime? True\n",
        "n := 1 => n*n-79n+1601 = 1523 => prime? True\n",
        "n := 2 => n*n-79n+1601 = 1447 => prime? True\n",
        "n := 3 => n*n-79n+1601 = 1373 => prime? True\n",
        "n := 4 => n*n-79n+1601 = 1301 => prime? True\n",
        "n := 5 => n*n-79n+1601 = 1231 => prime? True\n",
        "n := 6 => n*n-79n+1601 = 1163 => prime? True\n",
        "n := 7 => n*n-79n+1601 = 1097 => prime? True\n",
        "n := 8 => n*n-79n+1601 = 1033 => prime? True\n",
        "n := 9 => n*n-79n+1601 = 971 => prime? True\n",
        "n := 10 => n*n-79n+1601 = 911 => prime? True\n",
        "n := 11 => n*n-79n+1601 = 853 => prime? True\n",
        "n := 12 => n*n-79n+1601 = 797 => prime? True\n",
        "n := 13 => n*n-79n+1601 = 743 => prime? True\n",
        "n := 14 => n*n-79n+1601 = 691 => prime? True\n",
        "n := 15 => n*n-79n+1601 = 641 => prime? True\n",
        "n := 16 => n*n-79n+1601 = 593 => prime? True\n",
        "n := 17 => n*n-79n+1601 = 547 => prime? True\n",
        "n := 18 => n*n-79n+1601 = 503 => prime? True\n",
        "n := 19 => n*n-79n+1601 = 461 => prime? True\n",
        "n := 20 => n*n-79n+1601 = 421 => prime? True\n",
        "n := 21 => n*n-79n+1601 = 383 => prime? True\n",
        "n := 22 => n*n-79n+1601 = 347 => prime? True\n",
        "n := 23 => n*n-79n+1601 = 313 => prime? True\n",
        "n := 24 => n*n-79n+1601 = 281 => prime? True\n",
        "n := 25 => n*n-79n+1601 = 251 => prime? True\n",
        "n := 26 => n*n-79n+1601 = 223 => prime? True\n",
        "n := 27 => n*n-79n+1601 = 197 => prime? True\n",
        "n := 28 => n*n-79n+1601 = 173 => prime? True\n",
        "n := 29 => n*n-79n+1601 = 151 => prime? True\n",
        "n := 30 => n*n-79n+1601 = 131 => prime? True\n",
        "n := 31 => n*n-79n+1601 = 113 => prime? True\n",
        "n := 32 => n*n-79n+1601 = 97 => prime? True\n",
        "n := 33 => n*n-79n+1601 = 83 => prime? True\n",
        "n := 34 => n*n-79n+1601 = 71 => prime? True\n",
        "n := 35 => n*n-79n+1601 = 61 => prime? True\n",
        "n := 36 => n*n-79n+1601 = 53 => prime? True\n",
        "n := 37 => n*n-79n+1601 = 47 => prime? True\n",
        "n := 38 => n*n-79n+1601 = 43 => prime? True\n",
        "n := 39 => n*n-79n+1601 = 41 => prime? True\n",
        "n := 40 => n*n-79n+1601 = 41 => prime? True\n",
        "n := 41 => n*n-79n+1601 = 43 => prime? True\n",
        "n := 42 => n*n-79n+1601 = 47 => prime? True\n",
        "n := 43 => n*n-79n+1601 = 53 => prime? True\n",
        "n := 44 => n*n-79n+1601 = 61 => prime? True\n",
        "n := 45 => n*n-79n+1601 = 71 => prime? True\n",
        "n := 46 => n*n-79n+1601 = 83 => prime? True\n",
        "n := 47 => n*n-79n+1601 = 97 => prime? True\n",
        "n := 48 => n*n-79n+1601 = 113 => prime? True\n",
        "n := 49 => n*n-79n+1601 = 131 => prime? True\n",
        "n := 50 => n*n-79n+1601 = 151 => prime? True\n",
        "n := 51 => n*n-79n+1601 = 173 => prime? True\n",
        "n := 52 => n*n-79n+1601 = 197 => prime? True\n",
        "n := 53 => n*n-79n+1601 = 223 => prime? True\n",
        "n := 54 => n*n-79n+1601 = 251 => prime? True\n",
        "n := 55 => n*n-79n+1601 = 281 => prime? True\n",
        "n := 56 => n*n-79n+1601 = 313 => prime? True\n",
        "n := 57 => n*n-79n+1601 = 347 => prime? True\n",
        "n := 58 => n*n-79n+1601 = 383 => prime? True\n",
        "n := 59 => n*n-79n+1601 = 421 => prime? True\n",
        "n := 60 => n*n-79n+1601 = 461 => prime? True\n",
        "n := 61 => n*n-79n+1601 = 503 => prime? True\n",
        "n := 62 => n*n-79n+1601 = 547 => prime? True\n",
        "n := 63 => n*n-79n+1601 = 593 => prime? True\n",
        "n := 64 => n*n-79n+1601 = 641 => prime? True\n",
        "n := 65 => n*n-79n+1601 = 691 => prime? True\n",
        "n := 66 => n*n-79n+1601 = 743 => prime? True\n",
        "n := 67 => n*n-79n+1601 = 797 => prime? True\n",
        "n := 68 => n*n-79n+1601 = 853 => prime? True\n",
        "n := 69 => n*n-79n+1601 = 911 => prime? True\n",
        "n := 70 => n*n-79n+1601 = 971 => prime? True\n",
        "n := 71 => n*n-79n+1601 = 1033 => prime? True\n",
        "n := 72 => n*n-79n+1601 = 1097 => prime? True\n",
        "n := 73 => n*n-79n+1601 = 1163 => prime? True\n",
        "n := 74 => n*n-79n+1601 = 1231 => prime? True\n",
        "n := 75 => n*n-79n+1601 = 1301 => prime? True\n",
        "n := 76 => n*n-79n+1601 = 1373 => prime? True\n",
        "n := 77 => n*n-79n+1601 = 1447 => prime? True\n",
        "n := 78 => n*n-79n+1601 = 1523 => prime? True\n",
        "n := 79 => n*n-79n+1601 = 1601 => prime? True\n",
        "n := 80 => n*n-79n+1601 = 1681 => prime? False\n",
        "126479\n"
       ]
      }
     ],
     "prompt_number": 15
    },
    {
     "cell_type": "code",
     "collapsed": false,
     "input": [
      "max_run = 1\n",
      "for a in xrange(-999, 1000):\n",
      "    for b in xrange(-999, 1000):\n",
      "        n = 0\n",
      "        while is_prime(n*n + a*n + b):\n",
      "            n += 1\n",
      "        if n > max_run:\n",
      "            print \"New max_run = %d at %d , %d\" % (n,a,b)\n",
      "            max_run = n"
     ],
     "language": "python",
     "metadata": {},
     "outputs": [
      {
       "output_type": "stream",
       "stream": "stdout",
       "text": [
        "New max_run = 2 at -997 , 997\n",
        "New max_run = 3 at -499 , 997"
       ]
      },
      {
       "output_type": "stream",
       "stream": "stdout",
       "text": [
        "\n",
        "New max_run = 4 at -325 , 977"
       ]
      },
      {
       "output_type": "stream",
       "stream": "stdout",
       "text": [
        "\n",
        "New max_run = 5 at -245 , 977"
       ]
      },
      {
       "output_type": "stream",
       "stream": "stdout",
       "text": [
        "\n",
        "New max_run = 6 at -199 , 971"
       ]
      },
      {
       "output_type": "stream",
       "stream": "stdout",
       "text": [
        "\n",
        "New max_run = 7 at -163 , 983"
       ]
      },
      {
       "output_type": "stream",
       "stream": "stdout",
       "text": [
        "\n",
        "New max_run = 8 at -131 , 941"
       ]
      },
      {
       "output_type": "stream",
       "stream": "stdout",
       "text": [
        "\n",
        "New max_run = 9 at -121 , 947\n",
        "New max_run = 11 at -105 , 967"
       ]
      },
      {
       "output_type": "stream",
       "stream": "stdout",
       "text": [
        "\n",
        "New max_run = 71 at -61 , 971"
       ]
      },
      {
       "output_type": "stream",
       "stream": "stdout",
       "text": [
        "\n"
       ]
      }
     ],
     "prompt_number": 18
    },
    {
     "cell_type": "code",
     "collapsed": false,
     "input": [
      "print -61*971"
     ],
     "language": "python",
     "metadata": {},
     "outputs": [
      {
       "output_type": "stream",
       "stream": "stdout",
       "text": [
        "-59231\n"
       ]
      }
     ],
     "prompt_number": 19
    }
   ],
   "metadata": {}
  }
 ]
}