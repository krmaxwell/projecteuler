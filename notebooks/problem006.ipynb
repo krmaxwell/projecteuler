{
 "metadata": {
  "name": "",
  "signature": "sha256:43cafcd481063b5bcf1be43b6d8f76c47fc919b2abcd69c4a700e97399a22c46"
 },
 "nbformat": 3,
 "nbformat_minor": 0,
 "worksheets": [
  {
   "cells": [
    {
     "cell_type": "markdown",
     "metadata": {},
     "source": [
      "# [Problem 6](http://projecteuler.net/problem=6): Sum square difference\n",
      "\n",
      "The sum of the squares of the first ten natural numbers is,\n",
      "\n",
      "1<sup>2</sup> + 2<sup>2</sup> + ... + 10<sup>2</sup> = 385\n",
      "\n",
      "The square of the sum of the first ten natural numbers is,\n",
      "\n",
      "(1 + 2 + ... + 10)<sup>2</sup> = 55<sup>2</sup> = 3025\n",
      "\n",
      "Hence the difference between the sum of the squares of the first ten natural numbers and the square of the sum is 3025 \u2212 385 = 2640.\n",
      "\n",
      "Find the difference between the sum of the squares of the first one hundred natural numbers and the square of the sum."
     ]
    },
    {
     "cell_type": "markdown",
     "metadata": {},
     "source": [
      "---\n",
      "Mathematically, this ranks among the most trivial of the Project Euler problems. But it does give us a chance to play a little with Python [list comprehensions](https://docs.python.org/2/tutorial/datastructures.html#list-comprehensions).\n",
      "\n",
      "For the sum of squares, instead of writing an actual `for` loop, we can embed an expression in `[]` (or equivalently `list()`). In fact, this particular expression is the example given in the documentation linked above.\n",
      "\n",
      "For the square of the sum, since we have a natural sequence, we don't even need to do that much work and just use the built-in functions directly."
     ]
    },
    {
     "cell_type": "code",
     "collapsed": false,
     "input": [
      "n = 10\n",
      "s1=sum([n**2 for n in xrange(1,n+1)])\n",
      "s2=sum(xrange(1,n+1))**2\n",
      "print abs(s1-s2)"
     ],
     "language": "python",
     "metadata": {},
     "outputs": [
      {
       "output_type": "stream",
       "stream": "stdout",
       "text": [
        "2640\n"
       ]
      }
     ],
     "prompt_number": 6
    }
   ],
   "metadata": {}
  }
 ]
}