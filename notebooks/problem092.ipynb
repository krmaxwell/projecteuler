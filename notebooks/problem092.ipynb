{
 "metadata": {
  "name": ""
 },
 "nbformat": 3,
 "nbformat_minor": 0,
 "worksheets": [
  {
   "cells": [
    {
     "cell_type": "markdown",
     "metadata": {},
     "source": [
      "# [Problem 92](http://projecteuler.net/problem=92): Square digit chains\n",
      "\n",
      "A number chain is created by continuously adding the square of the digits in a number to form a new number until it has been seen before.\n",
      "\n",
      "For example,\n",
      "\n",
      "- 44 \u2192 32 \u2192 13 \u2192 10 \u2192 **1** \u2192 **1**\n",
      "- 85 \u2192 **89** \u2192 145 \u2192 42 \u2192 20 \u2192 4 \u2192 16 \u2192 37 \u2192 58 \u2192 **89**\n",
      "\n",
      "Therefore any chain that arrives at 1 or 89 will become stuck in an endless loop. What is most amazing is that EVERY starting number will eventually arrive at 1 or 89.\n",
      "\n",
      "How many starting numbers below ten million will arrive at 89?"
     ]
    },
    {
     "cell_type": "code",
     "collapsed": false,
     "input": [
      "def gen_chain(n, output = True):\n",
      "    links = set()\n",
      "    link = n\n",
      "    if output:\n",
      "        print link,\n",
      "    while link not in links:\n",
      "        links.add(link)\n",
      "        link = sum([int(digit)*int(digit) for digit in str(link)])\n",
      "        if output:\n",
      "            print \" \u2192 %d\" % link,\n",
      "    return links"
     ],
     "language": "python",
     "metadata": {},
     "outputs": [],
     "prompt_number": 1
    },
    {
     "cell_type": "code",
     "collapsed": false,
     "input": [
      "gen_chain(44)"
     ],
     "language": "python",
     "metadata": {},
     "outputs": [
      {
       "output_type": "stream",
       "stream": "stdout",
       "text": [
        "44  \u2192 32  \u2192 13  \u2192 10  \u2192 1  \u2192 1"
       ]
      },
      {
       "metadata": {},
       "output_type": "pyout",
       "prompt_number": 2,
       "text": [
        "{1, 10, 13, 32, 44}"
       ]
      },
      {
       "output_type": "stream",
       "stream": "stdout",
       "text": [
        "\n"
       ]
      }
     ],
     "prompt_number": 2
    },
    {
     "cell_type": "code",
     "collapsed": false,
     "input": [
      "gen_chain(85)"
     ],
     "language": "python",
     "metadata": {},
     "outputs": [
      {
       "output_type": "stream",
       "stream": "stdout",
       "text": [
        "85  \u2192 89  \u2192 145  \u2192 42  \u2192 20  \u2192 4  \u2192 16  \u2192 37  \u2192 58  \u2192 89"
       ]
      },
      {
       "metadata": {},
       "output_type": "pyout",
       "prompt_number": 3,
       "text": [
        "{4, 16, 20, 37, 42, 58, 85, 89, 145}"
       ]
      },
      {
       "output_type": "stream",
       "stream": "stdout",
       "text": [
        "\n"
       ]
      }
     ],
     "prompt_number": 3
    },
    {
     "cell_type": "code",
     "collapsed": false,
     "input": [
      "count = 0\n",
      "chain1 = set()\n",
      "chain89 = set()\n",
      "output = False\n",
      "for n in xrange(1,10000000):\n",
      "    chain = set()\n",
      "    link = n\n",
      "    if output:\n",
      "        print link,\n",
      "    while link not in chain1 and link not in chain89 and link not in chain:\n",
      "        chain.add(link)\n",
      "        link = sum([int(digit)*int(digit) for digit in str(link)])\n",
      "        if output:\n",
      "            print \" \u2192 %d\" % link,\n",
      "    if 1 in chain:\n",
      "        chain1.union(chain)\n",
      "    elif 89 in chain:\n",
      "        chain89.union(chain)\n",
      "        count += 1\n",
      "    elif link in chain89:\n",
      "        count += 1\n",
      "    if output:\n",
      "        print\n",
      "print count"
     ],
     "language": "python",
     "metadata": {},
     "outputs": [
      {
       "output_type": "stream",
       "stream": "stdout",
       "text": [
        "8581146\n"
       ]
      }
     ],
     "prompt_number": 6
    },
    {
     "cell_type": "code",
     "collapsed": false,
     "input": [],
     "language": "python",
     "metadata": {},
     "outputs": []
    }
   ],
   "metadata": {}
  }
 ]
}