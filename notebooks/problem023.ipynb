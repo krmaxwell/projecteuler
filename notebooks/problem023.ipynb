{
 "metadata": {
  "name": "",
  "signature": "sha256:aad5330c0aa9ccfe4d168e3555ccf27fefab6b18b754403be59ab8d613ddf7c0"
 },
 "nbformat": 3,
 "nbformat_minor": 0,
 "worksheets": [
  {
   "cells": [
    {
     "cell_type": "markdown",
     "metadata": {},
     "source": [
      "# [Problem 23](http://projecteuler.net/problem=23): Non-abundant sums\n",
      "\n",
      "A perfect number is a number for which the sum of its proper divisors is exactly equal to the number. For example, the sum of the proper divisors of 28 would be `1 + 2 + 4 + 7 + 14 = 28`, which means that 28 is a perfect number.\n",
      "\n",
      "A number `n` is called deficient if the sum of its proper divisors is less than `n` and it is called abundant if this sum exceeds `n`.\n",
      "\n",
      "As 12 is the smallest abundant number, `1 + 2 + 3 + 4 + 6 = 16`, the smallest number that can be written as the sum of two abundant numbers is 24. By mathematical analysis, it can be shown that all integers greater than 28123 can be written as the sum of two abundant numbers. However, this upper limit cannot be reduced any further by analysis even though it is known that the greatest number that cannot be expressed as the sum of two abundant numbers is less than this limit.\n",
      "\n",
      "Find the sum of all the positive integers which cannot be written as the sum of two abundant numbers."
     ]
    },
    {
     "cell_type": "code",
     "collapsed": false,
     "input": [
      "# ripped shamelessly from problem 21\n",
      "\n",
      "def proper_divisors(n):\n",
      "    divs = [1]\n",
      "    for d in xrange(2, n/2+1):\n",
      "        if n % d == 0:\n",
      "            divs.append(d)\n",
      "    return divs"
     ],
     "language": "python",
     "metadata": {},
     "outputs": [],
     "prompt_number": 1
    },
    {
     "cell_type": "code",
     "collapsed": false,
     "input": [
      "abundants = []\n",
      "for n in xrange(1,28123-12):\n",
      "    if n < sum(proper_divisors(n)):\n",
      "        abundants.append(n)\n",
      "print len(abundants)"
     ],
     "language": "python",
     "metadata": {},
     "outputs": [
      {
       "output_type": "stream",
       "stream": "stdout",
       "text": [
        "6961\n"
       ]
      }
     ],
     "prompt_number": 7
    },
    {
     "cell_type": "code",
     "collapsed": false,
     "input": [],
     "language": "python",
     "metadata": {},
     "outputs": []
    }
   ],
   "metadata": {}
  }
 ]
}