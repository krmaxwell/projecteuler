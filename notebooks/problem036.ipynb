{
 "metadata": {
  "name": ""
 },
 "nbformat": 3,
 "nbformat_minor": 0,
 "worksheets": [
  {
   "cells": [
    {
     "cell_type": "markdown",
     "metadata": {},
     "source": [
      "# [Problem 36](http://projecteuler.net/problem=36): Double-base palindromes\n",
      "\n",
      "The decimal number, 585 = 1001001001<sub>2</sub> (binary), is palindromic in both bases.\n",
      "\n",
      "Find the sum of all numbers, less than one million, which are palindromic in base 10 and base 2.\n",
      "\n",
      "(Please note that the palindromic number, in either base, may not include leading zeros.)"
     ]
    },
    {
     "cell_type": "code",
     "collapsed": false,
     "input": [
      "palindrome_sum = 0\n",
      "print sum([n for n in xrange(1, 1000000) if str(n) == str(n)[::-1] and str(bin(n))[2:] == str(bin(n))[2:][::-1]])"
     ],
     "language": "python",
     "metadata": {},
     "outputs": [
      {
       "output_type": "stream",
       "stream": "stdout",
       "text": [
        "872187\n"
       ]
      }
     ],
     "prompt_number": 7
    }
   ],
   "metadata": {}
  }
 ]
}