{
 "metadata": {
  "name": "",
  "signature": "sha256:1bf4d8868ed1adb083a6910971961259173b99c6b0f49286d6eca86edff70c12"
 },
 "nbformat": 3,
 "nbformat_minor": 0,
 "worksheets": [
  {
   "cells": [
    {
     "cell_type": "markdown",
     "metadata": {},
     "source": [
      "# [Problem 7](http://projecteuler.net/problem=7):10001st prime\n",
      "\n",
      "By listing the first six prime numbers: 2, 3, 5, 7, 11, and 13, we can see that the 6th prime is 13.\n",
      "\n",
      "What is the 10 001st prime number?"
     ]
    },
    {
     "cell_type": "markdown",
     "metadata": {},
     "source": [
      "---\n",
      "Again, we'll reuse our `is_prime()` function from earlier problems."
     ]
    },
    {
     "cell_type": "code",
     "collapsed": false,
     "input": [
      "from math import trunc, sqrt\n",
      "\n",
      "def is_prime(n):\n",
      "    r = trunc(sqrt(n))   # max number we have to check\n",
      "    i = 2                # first number to check\n",
      "    p = True             # eventual return value\n",
      "\n",
      "    while (i <= r) and p:\n",
      "        if (n % i) == 0:\n",
      "            p = False\n",
      "        else:\n",
      "            i += 1       # skip even numbers\n",
      "    return p"
     ],
     "language": "python",
     "metadata": {},
     "outputs": [],
     "prompt_number": 1
    },
    {
     "cell_type": "markdown",
     "metadata": {},
     "source": [
      "So from here we can just iterate. Note that by skipping 2 and building it into the count, we can optimize a little and skip all the even numbers as we do so."
     ]
    },
    {
     "cell_type": "code",
     "collapsed": false,
     "input": [
      "n = 10001"
     ],
     "language": "python",
     "metadata": {},
     "outputs": [],
     "prompt_number": 4
    },
    {
     "cell_type": "code",
     "collapsed": false,
     "input": [
      "candidate = 3  # skipping 2\n",
      "num = 2\n",
      "\n",
      "while num < n+1:\n",
      "    if is_prime(candidate):\n",
      "        num += 1\n",
      "        if num > n:\n",
      "            break\n",
      "        candidate += 2  # only need to check odd numbers\n",
      "    else:\n",
      "        candidate += 2\n",
      "\n",
      "print \"Prime # %d is %d\" % (n, candidate)"
     ],
     "language": "python",
     "metadata": {},
     "outputs": [
      {
       "output_type": "stream",
       "stream": "stdout",
       "text": [
        "Prime # 10001 is 104743\n"
       ]
      }
     ],
     "prompt_number": 5
    }
   ],
   "metadata": {}
  }
 ]
}