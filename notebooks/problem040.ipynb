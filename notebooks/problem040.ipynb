{
 "metadata": {
  "name": ""
 },
 "nbformat": 3,
 "nbformat_minor": 0,
 "worksheets": [
  {
   "cells": [
    {
     "cell_type": "markdown",
     "metadata": {},
     "source": [
      "# [Problem 40](http://projecteuler.net/problem=40): Champernowne's constant\n",
      "\n",
      "An irrational decimal fraction is created by concatenating the positive integers:\n",
      "\n",
      "0.12345678910**1**112131415161718192021...\n",
      "\n",
      "It can be seen that the 12th digit of the fractional part is 1.\n",
      "\n",
      "If dn represents the nth digit of the fractional part, find the value of the following expression.\n",
      "\n",
      "d<sub>1</sub> \u00d7 d<sub>10</sub> \u00d7 d<sub>100</sub> \u00d7 d<sub>1000</sub> \u00d7 d<sub>10000</sub> \u00d7 d<sub>100000</sub> \u00d7 d<sub>1000000</sub>"
     ]
    },
    {
     "cell_type": "code",
     "collapsed": false,
     "input": [
      "champernowne = \"0.\"\n",
      "integer = 1\n",
      "while len(champernowne) < 1000002:\n",
      "    champernowne += str(integer)\n",
      "    integer += 1"
     ],
     "language": "python",
     "metadata": {},
     "outputs": [],
     "prompt_number": 1
    },
    {
     "cell_type": "code",
     "collapsed": false,
     "input": [
      "print len(champernowne)"
     ],
     "language": "python",
     "metadata": {},
     "outputs": [
      {
       "output_type": "stream",
       "stream": "stdout",
       "text": [
        "1000007\n"
       ]
      }
     ],
     "prompt_number": 3
    },
    {
     "cell_type": "code",
     "collapsed": false,
     "input": [
      "prod = 1\n",
      "for n in xrange(7):\n",
      "    prod = prod*int(champernowne[1+10**n])\n",
      "print prod"
     ],
     "language": "python",
     "metadata": {},
     "outputs": [
      {
       "output_type": "stream",
       "stream": "stdout",
       "text": [
        "210\n"
       ]
      }
     ],
     "prompt_number": 16
    }
   ],
   "metadata": {}
  }
 ]
}