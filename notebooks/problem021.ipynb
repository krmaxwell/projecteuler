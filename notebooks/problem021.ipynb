{
 "metadata": {
  "name": "",
  "signature": "sha256:a3cddb8d389fe42f2a2c97b17c69131f1f7b1acd972a276fbfd6c2a964f31ea1"
 },
 "nbformat": 3,
 "nbformat_minor": 0,
 "worksheets": [
  {
   "cells": [
    {
     "cell_type": "markdown",
     "metadata": {},
     "source": [
      "# [Problem 21](http://projecteuler.net/problem=21): Amicable numbers\n",
      "\n",
      "Let `d(n)` be defined as the sum of proper divisors of `n` (numbers less than `n` which divide evenly into `n`).\n",
      "If `d(a) = b` and `d(b) = a`, where `a \u2260 b`, then `a` and `b` are an amicable pair and each of `a` and `b` are called amicable numbers.\n",
      "\n",
      "For example, the proper divisors of 220 are 1, 2, 4, 5, 10, 11, 20, 22, 44, 55 and 110; therefore `d(220) = 284`. The proper divisors of 284 are 1, 2, 4, 71 and 142; so `d(284) = 220`.\n",
      "\n",
      "Evaluate the sum of all the amicable numbers under 10000."
     ]
    },
    {
     "cell_type": "code",
     "collapsed": false,
     "input": [
      "def proper_divisors(n):\n",
      "    divs = [1]\n",
      "    for d in xrange(2, n/2+1):\n",
      "        if n % d == 0:\n",
      "            divs.append(d)\n",
      "    return divs"
     ],
     "language": "python",
     "metadata": {},
     "outputs": [],
     "prompt_number": 3
    },
    {
     "cell_type": "code",
     "collapsed": false,
     "input": [
      "amicable_sum = 0\n",
      "amicables = []\n",
      "for n in xrange(0, 10000):\n",
      "    candidate = sum(proper_divisors(n))\n",
      "    if candidate not in amicables and n != candidate and sum(proper_divisors(candidate)) == n:\n",
      "        print \"%d and %d are amicable\" % (n, candidate)\n",
      "        amicable_sum += candidate + n\n",
      "        amicables.append(candidate)\n",
      "        amicables.append(n)"
     ],
     "language": "python",
     "metadata": {},
     "outputs": [
      {
       "output_type": "stream",
       "stream": "stdout",
       "text": [
        "220 and 284 are amicable\n",
        "1184 and 1210 are amicable\n",
        "2620 and 2924 are amicable"
       ]
      },
      {
       "output_type": "stream",
       "stream": "stdout",
       "text": [
        "\n",
        "5020 and 5564 are amicable"
       ]
      },
      {
       "output_type": "stream",
       "stream": "stdout",
       "text": [
        "\n",
        "6232 and 6368 are amicable"
       ]
      },
      {
       "output_type": "stream",
       "stream": "stdout",
       "text": [
        "\n"
       ]
      }
     ],
     "prompt_number": 18
    },
    {
     "cell_type": "code",
     "collapsed": false,
     "input": [
      "amicable_sum"
     ],
     "language": "python",
     "metadata": {},
     "outputs": [
      {
       "metadata": {},
       "output_type": "pyout",
       "prompt_number": 19,
       "text": [
        "31626"
       ]
      }
     ],
     "prompt_number": 19
    }
   ],
   "metadata": {}
  }
 ]
}