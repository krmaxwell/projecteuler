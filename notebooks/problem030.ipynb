{
 "metadata": {
  "name": ""
 },
 "nbformat": 3,
 "nbformat_minor": 0,
 "worksheets": [
  {
   "cells": [
    {
     "cell_type": "markdown",
     "metadata": {},
     "source": [
      "# [Problem 30](http://projecteuler.net/problem=30): Digit fifth powers\n",
      "\n",
      "Surprisingly there are only three numbers that can be written as the sum of fourth powers of their digits:\n",
      "\n",
      "- 1634 = 1<sup>4</sup> + 6<sup>4</sup> + 3<sup>4</sup> + 4<sup>4</sup>\n",
      "- 8208 = 8<sup>4</sup> + 2<sup>4</sup> + 0<sup>4</sup> + 8<sup>4</sup>\n",
      "- 9474 = 9<sup>4</sup> + 4<sup>4</sup> + 7<sup>4</sup> + 4<sup>4</sup>\n",
      "\n",
      "As 1 = 1<sup>4</sup> is not a sum it is not included.\n",
      "\n",
      "The sum of these numbers is 1634 + 8208 + 9474 = 19316.\n",
      "\n",
      "Find the sum of all the numbers that can be written as the sum of fifth powers of their digits."
     ]
    },
    {
     "cell_type": "code",
     "collapsed": false,
     "input": [
      "power = 5\n",
      "power_sums = 0\n",
      "for n in xrange(2,1000000):\n",
      "    sum = 0\n",
      "    for digit in str(n):\n",
      "        sum += int(digit)**power\n",
      "    if sum == n:\n",
      "        print \"%d is the sum of %dth powers of its digits\" % (n, power)\n",
      "        power_sums += n\n",
      "        \n",
      "print \"Final sum is %d\" % power_sums"
     ],
     "language": "python",
     "metadata": {},
     "outputs": [
      {
       "output_type": "stream",
       "stream": "stdout",
       "text": [
        "4150 is the sum of 5th powers of its digits\n",
        "4151 is the sum of 5th powers of its digits\n",
        "54748 is the sum of 5th powers of its digits"
       ]
      },
      {
       "output_type": "stream",
       "stream": "stdout",
       "text": [
        "\n",
        "92727 is the sum of 5th powers of its digits"
       ]
      },
      {
       "output_type": "stream",
       "stream": "stdout",
       "text": [
        "\n",
        "93084 is the sum of 5th powers of its digits\n",
        "194979 is the sum of 5th powers of its digits"
       ]
      },
      {
       "output_type": "stream",
       "stream": "stdout",
       "text": [
        "\n",
        "Final sum is 443839"
       ]
      },
      {
       "output_type": "stream",
       "stream": "stdout",
       "text": [
        "\n"
       ]
      }
     ],
     "prompt_number": 7
    }
   ],
   "metadata": {}
  }
 ]
}